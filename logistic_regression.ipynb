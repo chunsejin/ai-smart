{
 "cells": [
  {
   "cell_type": "code",
   "execution_count": 1,
   "metadata": {},
   "outputs": [],
   "source": [
    "import pandas as pd\n",
    "from sklearn.model_selection import train_test_split\n",
    "from sklearn.impute import SimpleImputer\n",
    "from sklearn.linear_model import LogisticRegression\n",
    "from sklearn.metrics import classification_report, accuracy_score\n"
   ]
  },
  {
   "cell_type": "markdown",
   "metadata": {},
   "source": [
    "# 파일 로드"
   ]
  },
  {
   "cell_type": "code",
   "execution_count": 2,
   "metadata": {},
   "outputs": [],
   "source": [
    "# 파일 경로\n",
    "file_path = 'data/cmm_data.csv'\n",
    "\n",
    "# 데이터 불러오기\n",
    "data = pd.read_csv(file_path)"
   ]
  },
  {
   "cell_type": "code",
   "execution_count": null,
   "metadata": {},
   "outputs": [],
   "source": [
    "# 데이터 결측치 확인"
   ]
  },
  {
   "cell_type": "code",
   "execution_count": 3,
   "metadata": {},
   "outputs": [
    {
     "data": {
      "text/plain": [
       "(품명                                                                                 0\n",
       " 편차_각도1 <- 각도[XYPLAN]:직선2와 직선3 Ang                                                  0\n",
       " 편차_각도2 <- 각도[XYPLAN]:직선23와 직선24 Ang                                                0\n",
       " 편차_거리1 <- XAXIS[PT]:점9와 점10 <상> DS                                                 0\n",
       " 편차_거리2 <- XAXIS[PT]:점14와 점15 <하> DS                                                0\n",
       " 편차_거리3 <- XYPLAN[PT]:원5와 원통1 DS                                                    0\n",
       " 편차_거리4 <- XAXIS[평균]:점32와 점31 <소재기준> DS                                             0\n",
       " 편차_원1(I) <상> D                                                                     0\n",
       " 편차_원2(I) <중> D                                                                     0\n",
       " 편차_원3(I) <하> D                                                                     0\n",
       " 편차_원4(E) <소재> D                                                                    0\n",
       " 편차_원4(E) <소재> X                                                                    0\n",
       " 편차_원4(E) <소재> Y                                                                    0\n",
       " 편차_원5(I) D                                                                         0\n",
       " 편차_원5(I) Y                                                                         0\n",
       " 편차_원7(E) <- 원4의 되부름 D                                                              0\n",
       " 편차_원7(E) <- 원4의 되부름 X                                                              0\n",
       " 편차_원7(E) <- 원4의 되부름 Y                                                              0\n",
       " 편차_원통1(I) <- 원1, 원2, 원3의 측정점 병합 D                                                  0\n",
       " 편차_점13 <- 점11와 점12의 중점 <열전관리_상> X                                                  0\n",
       " 편차_점18 <- 점16와 점17의 중점 <열전관리_하> X                                                  0\n",
       " 편차_점19 <상> Y                                                                       0\n",
       " 편차_점2 <- 점1의 되부름 <열전 관리치수(Spec : 116.6±0.1)> X                                     0\n",
       " 편차_점2 <- 점1의 되부름 <열전 관리치수(Spec : 116.6±0.1)> Y                                     0\n",
       " 편차_점20 <하> Y                                                                       0\n",
       " 편차_점28 <- 점27의 되부름 <소재 원점> X                                                       0\n",
       " 편차_점28 <- 점27의 되부름 <소재 원점> Y                                                       0\n",
       " 편차_점29 <- 점13의 되부름 <소재원점> X                                                        0\n",
       " 편차_점29 <- 점13의 되부름 <소재원점> Y                                                        0\n",
       " 편차_점3 <- 직선4와 직선5의 교차점 <소재> X                                                      0\n",
       " 편차_점30 <- 점18의 되부름 <소재원점> X                                                        0\n",
       " 편차_점30 <- 점18의 되부름 <소재원점> Y                                                        0\n",
       " 편차_점4 <- 직선6와 직선5의 교차점 <소재> X                                                      0\n",
       " 편차_점4 <- 직선6와 직선5의 교차점 <소재> Y                                                      0\n",
       " 편차_점5 <- 직선8와 직선7의 교차점 X                                                           0\n",
       " 편차_점5 <- 직선8와 직선7의 교차점 Y                                                           0\n",
       " 편차_점6 <- 직선9와 직선10의 교차점 <소재> X                                                     0\n",
       " 편차_점6 <- 직선9와 직선10의 교차점 <소재> Y                                                     0\n",
       " 편차_점7 <- 직선10와 직선11의 교차점 <소재> X                                                    0\n",
       " 편차_점7 <- 직선10와 직선11의 교차점 <소재> Y                                                    0\n",
       " 편차_점8 <- 직선13와 직선12의 교차점 <소재> X                                                    0\n",
       " 편차_직선14 <23.1° 소재> Y/X                                                             0\n",
       " 편차_직선16 <우상 소재> X/Y                                                                0\n",
       " 편차_직선18 <좌상 소재> X/Y                                                                0\n",
       " 편차_직선19 <좌하 소재> X/Y                                                                0\n",
       " 편차_직선21 <우하 소재> X/Y                                                                0\n",
       " 편차_직선25 <- 직선18의 되부름 X/Y                                                           0\n",
       " 편차_직선26 <- 직선16의 되부름 X/Y                                                           0\n",
       " 편차_직선4 <27° 소재> Y/X                                                                0\n",
       " 편차_직선5 <7.5° 소재> Y/X                                                               0\n",
       " 편차_직선6 <35.9° 소재> Y/X                                                              0\n",
       " 편차_직선7 <23.1°> Y/X                                                                 0\n",
       " 편차_직선8 <6°> Y/X                                                                    0\n",
       " 편차_평면2 Z                                                                           0\n",
       " 편차_평면3 <- 점21, 점22, 점23, ... , 점26의 측정점 병합 <마이크로미터로 측정 해볼 것 !!!!!!!!!!!!!!!!> Z    0\n",
       " 품질상태                                                                               0\n",
       " dtype: int64,\n",
       " 품명                                                                                  object\n",
       " 편차_각도1 <- 각도[XYPLAN]:직선2와 직선3 Ang                                                  float64\n",
       " 편차_각도2 <- 각도[XYPLAN]:직선23와 직선24 Ang                                                float64\n",
       " 편차_거리1 <- XAXIS[PT]:점9와 점10 <상> DS                                                 float64\n",
       " 편차_거리2 <- XAXIS[PT]:점14와 점15 <하> DS                                                float64\n",
       " 편차_거리3 <- XYPLAN[PT]:원5와 원통1 DS                                                    float64\n",
       " 편차_거리4 <- XAXIS[평균]:점32와 점31 <소재기준> DS                                             float64\n",
       " 편차_원1(I) <상> D                                                                     float64\n",
       " 편차_원2(I) <중> D                                                                     float64\n",
       " 편차_원3(I) <하> D                                                                     float64\n",
       " 편차_원4(E) <소재> D                                                                    float64\n",
       " 편차_원4(E) <소재> X                                                                    float64\n",
       " 편차_원4(E) <소재> Y                                                                    float64\n",
       " 편차_원5(I) D                                                                         float64\n",
       " 편차_원5(I) Y                                                                         float64\n",
       " 편차_원7(E) <- 원4의 되부름 D                                                              float64\n",
       " 편차_원7(E) <- 원4의 되부름 X                                                              float64\n",
       " 편차_원7(E) <- 원4의 되부름 Y                                                              float64\n",
       " 편차_원통1(I) <- 원1, 원2, 원3의 측정점 병합 D                                                  float64\n",
       " 편차_점13 <- 점11와 점12의 중점 <열전관리_상> X                                                  float64\n",
       " 편차_점18 <- 점16와 점17의 중점 <열전관리_하> X                                                  float64\n",
       " 편차_점19 <상> Y                                                                       float64\n",
       " 편차_점2 <- 점1의 되부름 <열전 관리치수(Spec : 116.6±0.1)> X                                     float64\n",
       " 편차_점2 <- 점1의 되부름 <열전 관리치수(Spec : 116.6±0.1)> Y                                     float64\n",
       " 편차_점20 <하> Y                                                                       float64\n",
       " 편차_점28 <- 점27의 되부름 <소재 원점> X                                                       float64\n",
       " 편차_점28 <- 점27의 되부름 <소재 원점> Y                                                       float64\n",
       " 편차_점29 <- 점13의 되부름 <소재원점> X                                                        float64\n",
       " 편차_점29 <- 점13의 되부름 <소재원점> Y                                                        float64\n",
       " 편차_점3 <- 직선4와 직선5의 교차점 <소재> X                                                      float64\n",
       " 편차_점30 <- 점18의 되부름 <소재원점> X                                                        float64\n",
       " 편차_점30 <- 점18의 되부름 <소재원점> Y                                                        float64\n",
       " 편차_점4 <- 직선6와 직선5의 교차점 <소재> X                                                      float64\n",
       " 편차_점4 <- 직선6와 직선5의 교차점 <소재> Y                                                      float64\n",
       " 편차_점5 <- 직선8와 직선7의 교차점 X                                                           float64\n",
       " 편차_점5 <- 직선8와 직선7의 교차점 Y                                                           float64\n",
       " 편차_점6 <- 직선9와 직선10의 교차점 <소재> X                                                     float64\n",
       " 편차_점6 <- 직선9와 직선10의 교차점 <소재> Y                                                     float64\n",
       " 편차_점7 <- 직선10와 직선11의 교차점 <소재> X                                                    float64\n",
       " 편차_점7 <- 직선10와 직선11의 교차점 <소재> Y                                                    float64\n",
       " 편차_점8 <- 직선13와 직선12의 교차점 <소재> X                                                    float64\n",
       " 편차_직선14 <23.1° 소재> Y/X                                                             float64\n",
       " 편차_직선16 <우상 소재> X/Y                                                                float64\n",
       " 편차_직선18 <좌상 소재> X/Y                                                                float64\n",
       " 편차_직선19 <좌하 소재> X/Y                                                                float64\n",
       " 편차_직선21 <우하 소재> X/Y                                                                float64\n",
       " 편차_직선25 <- 직선18의 되부름 X/Y                                                           float64\n",
       " 편차_직선26 <- 직선16의 되부름 X/Y                                                           float64\n",
       " 편차_직선4 <27° 소재> Y/X                                                                float64\n",
       " 편차_직선5 <7.5° 소재> Y/X                                                               float64\n",
       " 편차_직선6 <35.9° 소재> Y/X                                                              float64\n",
       " 편차_직선7 <23.1°> Y/X                                                                 float64\n",
       " 편차_직선8 <6°> Y/X                                                                    float64\n",
       " 편차_평면2 Z                                                                           float64\n",
       " 편차_평면3 <- 점21, 점22, 점23, ... , 점26의 측정점 병합 <마이크로미터로 측정 해볼 것 !!!!!!!!!!!!!!!!> Z    float64\n",
       " 품질상태                                                                                 int64\n",
       " dtype: object)"
      ]
     },
     "execution_count": 3,
     "metadata": {},
     "output_type": "execute_result"
    }
   ],
   "source": [
    "# 결측치 및 데이터 타입 확인\n",
    "missing_values = data.isnull().sum()\n",
    "data_types = data.dtypes\n",
    "\n",
    "missing_values, data_types"
   ]
  },
  {
   "cell_type": "code",
   "execution_count": 4,
   "metadata": {},
   "outputs": [],
   "source": [
    "# '품명' 열 제외\n",
    "data_numeric = data.drop(columns=['품명'])\n",
    "\n",
    "# 결측치를 평균값으로 대체\n",
    "imputer = SimpleImputer(strategy='mean')\n",
    "data_imputed = imputer.fit_transform(data_numeric)\n",
    "\n",
    "# 데이터프레임으로 변환\n",
    "data_imputed = pd.DataFrame(data_imputed, columns=data_numeric.columns)"
   ]
  },
  {
   "cell_type": "code",
   "execution_count": null,
   "metadata": {},
   "outputs": [],
   "source": [
    "# 데이터 분리 (훈련, 테스트)"
   ]
  },
  {
   "cell_type": "code",
   "execution_count": 5,
   "metadata": {},
   "outputs": [],
   "source": [
    "# 독립 변수와 종속 변수 분리\n",
    "X = data_imputed.drop(columns=['품질상태'])\n",
    "y = data_imputed['품질상태']\n",
    "\n",
    "# 데이터를 훈련 세트와 테스트 세트로 분할\n",
    "X_train, X_test, y_train, y_test = train_test_split(X, y, test_size=0.2, random_state=42)"
   ]
  },
  {
   "cell_type": "markdown",
   "metadata": {},
   "source": [
    "# 로지스틱 모델 생성 및 훈련"
   ]
  },
  {
   "cell_type": "code",
   "execution_count": 6,
   "metadata": {},
   "outputs": [],
   "source": [
    "# 로지스틱 회귀 모델 생성 및 훈련\n",
    "logistic_model = LogisticRegression()\n",
    "logistic_model.fit(X_train, y_train)\n",
    "\n"
   ]
  },
  {
   "cell_type": "markdown",
   "metadata": {},
   "source": [
    "# 예측"
   ]
  },
  {
   "cell_type": "code",
   "execution_count": null,
   "metadata": {},
   "outputs": [],
   "source": [
    "# 테스트 세트에서 예측\n",
    "y_pred = logistic_model.predict(X_test)"
   ]
  },
  {
   "cell_type": "markdown",
   "metadata": {},
   "source": [
    "# 평가"
   ]
  },
  {
   "cell_type": "code",
   "execution_count": null,
   "metadata": {},
   "outputs": [],
   "source": [
    "# 모델 평가\n",
    "accuracy = accuracy_score(y_test, y_pred)\n",
    "report = classification_report(y_test, y_pred)"
   ]
  },
  {
   "cell_type": "code",
   "execution_count": 8,
   "metadata": {},
   "outputs": [
    {
     "name": "stdout",
     "output_type": "stream",
     "text": [
      "1.0               precision    recall  f1-score   support\n",
      "\n",
      "         1.0       1.00      1.00      1.00         2\n",
      "\n",
      "    accuracy                           1.00         2\n",
      "   macro avg       1.00      1.00      1.00         2\n",
      "weighted avg       1.00      1.00      1.00         2\n",
      "\n"
     ]
    }
   ],
   "source": [
    "print(accuracy, report)"
   ]
  }
 ],
 "metadata": {
  "kernelspec": {
   "display_name": "base",
   "language": "python",
   "name": "python3"
  },
  "language_info": {
   "codemirror_mode": {
    "name": "ipython",
    "version": 3
   },
   "file_extension": ".py",
   "mimetype": "text/x-python",
   "name": "python",
   "nbconvert_exporter": "python",
   "pygments_lexer": "ipython3",
   "version": "3.10.12"
  }
 },
 "nbformat": 4,
 "nbformat_minor": 2
}
