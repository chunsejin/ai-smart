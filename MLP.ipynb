{
 "cells": [
  {
   "cell_type": "code",
   "execution_count": 1,
   "metadata": {},
   "outputs": [],
   "source": [
    "import pandas as pd\n",
    "import torch\n",
    "import torch.nn as nn\n",
    "import torch.optim as optim\n",
    "from sklearn.impute import SimpleImputer\n",
    "from torch.utils.data import DataLoader, TensorDataset\n",
    "from sklearn.model_selection import train_test_split\n",
    "from sklearn.preprocessing import StandardScaler"
   ]
  },
  {
   "cell_type": "markdown",
   "metadata": {},
   "source": [
    "# 파일 읽기"
   ]
  },
  {
   "cell_type": "code",
   "execution_count": 2,
   "metadata": {},
   "outputs": [],
   "source": [
    "# 파일 경로\n",
    "file_path = 'data/cmm_data.csv'\n",
    "\n",
    "# 데이터 불러오기\n",
    "data = pd.read_csv(file_path)"
   ]
  },
  {
   "cell_type": "markdown",
   "metadata": {},
   "source": [
    "# 결측치 확인 및 X와 y 생성"
   ]
  },
  {
   "cell_type": "code",
   "execution_count": 3,
   "metadata": {},
   "outputs": [],
   "source": [
    "# 결측치 및 데이터 타입 확인\n",
    "missing_values = data.isnull().sum()\n",
    "data_types = data.dtypes\n",
    "\n",
    "missing_values, data_types\n",
    "\n",
    "# '품명' 열 제외\n",
    "data_numeric = data.drop(columns=['품명'])\n",
    "\n",
    "# 결측치를 평균값으로 대체\n",
    "imputer = SimpleImputer(strategy='mean')\n",
    "data_imputed = imputer.fit_transform(data_numeric)\n",
    "\n",
    "# 데이터프레임으로 변환\n",
    "data_imputed = pd.DataFrame(data_imputed, columns=data_numeric.columns)\n",
    "\n",
    "# 독립 변수와 종속 변수 분리\n",
    "X = data_imputed.drop(columns=['품질상태'])\n",
    "y = data_imputed['품질상태']"
   ]
  },
  {
   "cell_type": "code",
   "execution_count": 4,
   "metadata": {},
   "outputs": [
    {
     "data": {
      "text/html": [
       "<div>\n",
       "<style scoped>\n",
       "    .dataframe tbody tr th:only-of-type {\n",
       "        vertical-align: middle;\n",
       "    }\n",
       "\n",
       "    .dataframe tbody tr th {\n",
       "        vertical-align: top;\n",
       "    }\n",
       "\n",
       "    .dataframe thead th {\n",
       "        text-align: right;\n",
       "    }\n",
       "</style>\n",
       "<table border=\"1\" class=\"dataframe\">\n",
       "  <thead>\n",
       "    <tr style=\"text-align: right;\">\n",
       "      <th></th>\n",
       "      <th>편차_각도1 &lt;- 각도[XYPLAN]:직선2와 직선3 Ang</th>\n",
       "      <th>편차_각도2 &lt;- 각도[XYPLAN]:직선23와 직선24 Ang</th>\n",
       "      <th>편차_거리1 &lt;- XAXIS[PT]:점9와 점10 &lt;상&gt; DS</th>\n",
       "      <th>편차_거리2 &lt;- XAXIS[PT]:점14와 점15 &lt;하&gt; DS</th>\n",
       "      <th>편차_거리3 &lt;- XYPLAN[PT]:원5와 원통1 DS</th>\n",
       "      <th>편차_거리4 &lt;- XAXIS[평균]:점32와 점31 &lt;소재기준&gt; DS</th>\n",
       "      <th>편차_원1(I) &lt;상&gt; D</th>\n",
       "      <th>편차_원2(I) &lt;중&gt; D</th>\n",
       "      <th>편차_원3(I) &lt;하&gt; D</th>\n",
       "      <th>편차_원4(E) &lt;소재&gt; D</th>\n",
       "      <th>...</th>\n",
       "      <th>편차_직선21 &lt;우하 소재&gt; X/Y</th>\n",
       "      <th>편차_직선25 &lt;- 직선18의 되부름 X/Y</th>\n",
       "      <th>편차_직선26 &lt;- 직선16의 되부름 X/Y</th>\n",
       "      <th>편차_직선4 &lt;27° 소재&gt; Y/X</th>\n",
       "      <th>편차_직선5 &lt;7.5° 소재&gt; Y/X</th>\n",
       "      <th>편차_직선6 &lt;35.9° 소재&gt; Y/X</th>\n",
       "      <th>편차_직선7 &lt;23.1°&gt; Y/X</th>\n",
       "      <th>편차_직선8 &lt;6°&gt; Y/X</th>\n",
       "      <th>편차_평면2 Z</th>\n",
       "      <th>편차_평면3 &lt;- 점21, 점22, 점23, ... , 점26의 측정점 병합 &lt;마이크로미터로 측정 해볼 것 !!!!!!!!!!!!!!!!&gt; Z</th>\n",
       "    </tr>\n",
       "  </thead>\n",
       "  <tbody>\n",
       "    <tr>\n",
       "      <th>0</th>\n",
       "      <td>0.303</td>\n",
       "      <td>-0.023</td>\n",
       "      <td>0.037</td>\n",
       "      <td>0.016</td>\n",
       "      <td>-0.001</td>\n",
       "      <td>0.037</td>\n",
       "      <td>0.010</td>\n",
       "      <td>0.014</td>\n",
       "      <td>0.013</td>\n",
       "      <td>-0.381</td>\n",
       "      <td>...</td>\n",
       "      <td>1.439</td>\n",
       "      <td>0.075</td>\n",
       "      <td>-0.009</td>\n",
       "      <td>0.235</td>\n",
       "      <td>-0.060</td>\n",
       "      <td>-0.156</td>\n",
       "      <td>0.167</td>\n",
       "      <td>0.228</td>\n",
       "      <td>0.282</td>\n",
       "      <td>0.517</td>\n",
       "    </tr>\n",
       "    <tr>\n",
       "      <th>1</th>\n",
       "      <td>0.239</td>\n",
       "      <td>-0.009</td>\n",
       "      <td>0.046</td>\n",
       "      <td>0.021</td>\n",
       "      <td>0.030</td>\n",
       "      <td>0.046</td>\n",
       "      <td>0.010</td>\n",
       "      <td>0.014</td>\n",
       "      <td>0.011</td>\n",
       "      <td>-0.374</td>\n",
       "      <td>...</td>\n",
       "      <td>-0.050</td>\n",
       "      <td>0.063</td>\n",
       "      <td>-0.039</td>\n",
       "      <td>0.258</td>\n",
       "      <td>-0.049</td>\n",
       "      <td>-0.177</td>\n",
       "      <td>0.178</td>\n",
       "      <td>0.218</td>\n",
       "      <td>0.264</td>\n",
       "      <td>0.461</td>\n",
       "    </tr>\n",
       "    <tr>\n",
       "      <th>2</th>\n",
       "      <td>0.129</td>\n",
       "      <td>0.067</td>\n",
       "      <td>0.046</td>\n",
       "      <td>0.051</td>\n",
       "      <td>0.040</td>\n",
       "      <td>0.046</td>\n",
       "      <td>0.011</td>\n",
       "      <td>0.015</td>\n",
       "      <td>0.017</td>\n",
       "      <td>-0.371</td>\n",
       "      <td>...</td>\n",
       "      <td>-0.157</td>\n",
       "      <td>0.045</td>\n",
       "      <td>-0.180</td>\n",
       "      <td>0.226</td>\n",
       "      <td>-0.047</td>\n",
       "      <td>-0.159</td>\n",
       "      <td>0.168</td>\n",
       "      <td>0.224</td>\n",
       "      <td>0.219</td>\n",
       "      <td>0.369</td>\n",
       "    </tr>\n",
       "    <tr>\n",
       "      <th>3</th>\n",
       "      <td>0.256</td>\n",
       "      <td>-0.148</td>\n",
       "      <td>0.053</td>\n",
       "      <td>0.017</td>\n",
       "      <td>0.022</td>\n",
       "      <td>0.053</td>\n",
       "      <td>0.012</td>\n",
       "      <td>0.018</td>\n",
       "      <td>0.018</td>\n",
       "      <td>-0.379</td>\n",
       "      <td>...</td>\n",
       "      <td>-0.096</td>\n",
       "      <td>0.144</td>\n",
       "      <td>-0.007</td>\n",
       "      <td>0.224</td>\n",
       "      <td>-0.015</td>\n",
       "      <td>-0.122</td>\n",
       "      <td>0.146</td>\n",
       "      <td>0.185</td>\n",
       "      <td>0.250</td>\n",
       "      <td>0.459</td>\n",
       "    </tr>\n",
       "    <tr>\n",
       "      <th>4</th>\n",
       "      <td>0.205</td>\n",
       "      <td>-0.133</td>\n",
       "      <td>0.037</td>\n",
       "      <td>0.007</td>\n",
       "      <td>0.024</td>\n",
       "      <td>0.037</td>\n",
       "      <td>0.009</td>\n",
       "      <td>0.015</td>\n",
       "      <td>0.011</td>\n",
       "      <td>-0.380</td>\n",
       "      <td>...</td>\n",
       "      <td>0.039</td>\n",
       "      <td>0.030</td>\n",
       "      <td>-0.068</td>\n",
       "      <td>0.214</td>\n",
       "      <td>-0.038</td>\n",
       "      <td>-0.141</td>\n",
       "      <td>0.193</td>\n",
       "      <td>0.231</td>\n",
       "      <td>0.250</td>\n",
       "      <td>0.517</td>\n",
       "    </tr>\n",
       "    <tr>\n",
       "      <th>5</th>\n",
       "      <td>0.336</td>\n",
       "      <td>-0.014</td>\n",
       "      <td>0.034</td>\n",
       "      <td>-0.004</td>\n",
       "      <td>-0.006</td>\n",
       "      <td>0.034</td>\n",
       "      <td>0.010</td>\n",
       "      <td>0.013</td>\n",
       "      <td>0.014</td>\n",
       "      <td>-0.375</td>\n",
       "      <td>...</td>\n",
       "      <td>-0.026</td>\n",
       "      <td>0.058</td>\n",
       "      <td>-0.059</td>\n",
       "      <td>0.216</td>\n",
       "      <td>-0.043</td>\n",
       "      <td>-0.153</td>\n",
       "      <td>0.197</td>\n",
       "      <td>0.241</td>\n",
       "      <td>0.258</td>\n",
       "      <td>0.458</td>\n",
       "    </tr>\n",
       "    <tr>\n",
       "      <th>6</th>\n",
       "      <td>0.242</td>\n",
       "      <td>0.013</td>\n",
       "      <td>0.050</td>\n",
       "      <td>0.030</td>\n",
       "      <td>0.008</td>\n",
       "      <td>0.050</td>\n",
       "      <td>0.012</td>\n",
       "      <td>0.017</td>\n",
       "      <td>0.013</td>\n",
       "      <td>-0.374</td>\n",
       "      <td>...</td>\n",
       "      <td>0.077</td>\n",
       "      <td>0.103</td>\n",
       "      <td>-0.016</td>\n",
       "      <td>0.252</td>\n",
       "      <td>-0.014</td>\n",
       "      <td>-0.093</td>\n",
       "      <td>0.162</td>\n",
       "      <td>0.203</td>\n",
       "      <td>0.240</td>\n",
       "      <td>0.488</td>\n",
       "    </tr>\n",
       "  </tbody>\n",
       "</table>\n",
       "<p>7 rows × 54 columns</p>\n",
       "</div>"
      ],
      "text/plain": [
       "   편차_각도1 <- 각도[XYPLAN]:직선2와 직선3 Ang  편차_각도2 <- 각도[XYPLAN]:직선23와 직선24 Ang  \\\n",
       "0                              0.303                               -0.023   \n",
       "1                              0.239                               -0.009   \n",
       "2                              0.129                                0.067   \n",
       "3                              0.256                               -0.148   \n",
       "4                              0.205                               -0.133   \n",
       "5                              0.336                               -0.014   \n",
       "6                              0.242                                0.013   \n",
       "\n",
       "   편차_거리1 <- XAXIS[PT]:점9와 점10 <상> DS  편차_거리2 <- XAXIS[PT]:점14와 점15 <하> DS  \\\n",
       "0                               0.037                                0.016   \n",
       "1                               0.046                                0.021   \n",
       "2                               0.046                                0.051   \n",
       "3                               0.053                                0.017   \n",
       "4                               0.037                                0.007   \n",
       "5                               0.034                               -0.004   \n",
       "6                               0.050                                0.030   \n",
       "\n",
       "   편차_거리3 <- XYPLAN[PT]:원5와 원통1 DS  편차_거리4 <- XAXIS[평균]:점32와 점31 <소재기준> DS  \\\n",
       "0                           -0.001                                   0.037   \n",
       "1                            0.030                                   0.046   \n",
       "2                            0.040                                   0.046   \n",
       "3                            0.022                                   0.053   \n",
       "4                            0.024                                   0.037   \n",
       "5                           -0.006                                   0.034   \n",
       "6                            0.008                                   0.050   \n",
       "\n",
       "   편차_원1(I) <상> D  편차_원2(I) <중> D  편차_원3(I) <하> D  편차_원4(E) <소재> D  ...  \\\n",
       "0           0.010           0.014           0.013           -0.381  ...   \n",
       "1           0.010           0.014           0.011           -0.374  ...   \n",
       "2           0.011           0.015           0.017           -0.371  ...   \n",
       "3           0.012           0.018           0.018           -0.379  ...   \n",
       "4           0.009           0.015           0.011           -0.380  ...   \n",
       "5           0.010           0.013           0.014           -0.375  ...   \n",
       "6           0.012           0.017           0.013           -0.374  ...   \n",
       "\n",
       "   편차_직선21 <우하 소재> X/Y  편차_직선25 <- 직선18의 되부름 X/Y  편차_직선26 <- 직선16의 되부름 X/Y  \\\n",
       "0                1.439                     0.075                    -0.009   \n",
       "1               -0.050                     0.063                    -0.039   \n",
       "2               -0.157                     0.045                    -0.180   \n",
       "3               -0.096                     0.144                    -0.007   \n",
       "4                0.039                     0.030                    -0.068   \n",
       "5               -0.026                     0.058                    -0.059   \n",
       "6                0.077                     0.103                    -0.016   \n",
       "\n",
       "   편차_직선4 <27° 소재> Y/X  편차_직선5 <7.5° 소재> Y/X  편차_직선6 <35.9° 소재> Y/X  \\\n",
       "0                0.235                -0.060                 -0.156   \n",
       "1                0.258                -0.049                 -0.177   \n",
       "2                0.226                -0.047                 -0.159   \n",
       "3                0.224                -0.015                 -0.122   \n",
       "4                0.214                -0.038                 -0.141   \n",
       "5                0.216                -0.043                 -0.153   \n",
       "6                0.252                -0.014                 -0.093   \n",
       "\n",
       "   편차_직선7 <23.1°> Y/X  편차_직선8 <6°> Y/X  편차_평면2 Z  \\\n",
       "0               0.167            0.228     0.282   \n",
       "1               0.178            0.218     0.264   \n",
       "2               0.168            0.224     0.219   \n",
       "3               0.146            0.185     0.250   \n",
       "4               0.193            0.231     0.250   \n",
       "5               0.197            0.241     0.258   \n",
       "6               0.162            0.203     0.240   \n",
       "\n",
       "   편차_평면3 <- 점21, 점22, 점23, ... , 점26의 측정점 병합 <마이크로미터로 측정 해볼 것 !!!!!!!!!!!!!!!!> Z  \n",
       "0                                              0.517                                \n",
       "1                                              0.461                                \n",
       "2                                              0.369                                \n",
       "3                                              0.459                                \n",
       "4                                              0.517                                \n",
       "5                                              0.458                                \n",
       "6                                              0.488                                \n",
       "\n",
       "[7 rows x 54 columns]"
      ]
     },
     "execution_count": 4,
     "metadata": {},
     "output_type": "execute_result"
    }
   ],
   "source": [
    "X"
   ]
  },
  {
   "cell_type": "code",
   "execution_count": 5,
   "metadata": {},
   "outputs": [
    {
     "data": {
      "text/plain": [
       "0    1.0\n",
       "1    1.0\n",
       "2    1.0\n",
       "3    1.0\n",
       "4    1.0\n",
       "5    0.0\n",
       "6    1.0\n",
       "Name: 품질상태, dtype: float64"
      ]
     },
     "execution_count": 5,
     "metadata": {},
     "output_type": "execute_result"
    }
   ],
   "source": [
    "y"
   ]
  },
  {
   "cell_type": "markdown",
   "metadata": {},
   "source": [
    "# 데이터 스케일링"
   ]
  },
  {
   "cell_type": "code",
   "execution_count": 6,
   "metadata": {},
   "outputs": [
    {
     "data": {
      "text/plain": [
       "2    1.0\n",
       "4    1.0\n",
       "3    1.0\n",
       "6    1.0\n",
       "Name: 품질상태, dtype: float64"
      ]
     },
     "execution_count": 6,
     "metadata": {},
     "output_type": "execute_result"
    }
   ],
   "source": [
    "# 데이터를 훈련 세트와 테스트 세트로 분할\n",
    "X_train, X_test, y_train, y_test = train_test_split(X, y, test_size=0.3, random_state=42)\n",
    "y_train"
   ]
  },
  {
   "cell_type": "code",
   "execution_count": 7,
   "metadata": {},
   "outputs": [],
   "source": [
    "# 특징 스케일링\n",
    "scaler = StandardScaler()\n",
    "X_train = scaler.fit_transform(X_train)  # X 대신 X_train 사용\n",
    "X_test = scaler.transform(X_test)"
   ]
  },
  {
   "cell_type": "code",
   "execution_count": 10,
   "metadata": {},
   "outputs": [],
   "source": [
    "import numpy as np"
   ]
  },
  {
   "cell_type": "code",
   "execution_count": 11,
   "metadata": {},
   "outputs": [
    {
     "name": "stderr",
     "output_type": "stream",
     "text": [
      "C:\\Users\\admin\\AppData\\Local\\Temp\\ipykernel_50560\\1496888818.py:2: UserWarning: To copy construct from a tensor, it is recommended to use sourceTensor.clone().detach() or sourceTensor.clone().detach().requires_grad_(True), rather than torch.tensor(sourceTensor).\n",
      "  X_train = torch.tensor(X_train, dtype=torch.float32)\n"
     ]
    }
   ],
   "source": [
    "# PyTorch Tensor로 변환\n",
    "X_train = torch.tensor(X_train, dtype=torch.float32)\n",
    "y_train = torch.tensor(y_train.values.astype(np.float32))  # y 대신 y_train 사용\n",
    "X_test = torch.tensor(X_test, dtype=torch.float32)\n",
    "y_test = torch.tensor(y_test.values.astype(np.float32))\n",
    "\n",
    "# 데이터 로더 생성\n",
    "train_data = TensorDataset(X_train, y_train)\n",
    "train_loader = DataLoader(train_data, batch_size=10, shuffle=True)"
   ]
  },
  {
   "cell_type": "markdown",
   "metadata": {},
   "source": [
    "# 이전 분류 딥러닝 모델 정의"
   ]
  },
  {
   "cell_type": "code",
   "execution_count": 12,
   "metadata": {},
   "outputs": [],
   "source": [
    "# 모델 클래스 정의\n",
    "class BinaryClassifier(nn.Module):\n",
    "    def __init__(self):\n",
    "        super(BinaryClassifier, self).__init__()\n",
    "        self.fc1 = nn.Linear(X_train.shape[1], 12)\n",
    "        self.fc2 = nn.Linear(12, 8)\n",
    "        self.fc3 = nn.Linear(8, 1)\n",
    "        self.sigmoid = nn.Sigmoid()\n",
    "    \n",
    "    def forward(self, x):\n",
    "        x = torch.relu(self.fc1(x))\n",
    "        x = torch.relu(self.fc2(x))\n",
    "        x = self.sigmoid(self.fc3(x))\n",
    "        return x"
   ]
  },
  {
   "cell_type": "code",
   "execution_count": 13,
   "metadata": {},
   "outputs": [],
   "source": [
    "# 모델 초기화\n",
    "model = BinaryClassifier()\n",
    "\n",
    "# 손실 함수 및 최적화기\n",
    "criterion = nn.BCEWithLogitsLoss()\n",
    "optimizer = optim.Adam(model.parameters(), lr=0.001)\n",
    "\n",
    "# 기록을 위한 리스트 초기화\n",
    "epoch_losses = []\n",
    "epoch_accuracies = []\n"
   ]
  },
  {
   "cell_type": "markdown",
   "metadata": {},
   "source": [
    "# 학습 (TRAINING)"
   ]
  },
  {
   "cell_type": "code",
   "execution_count": 14,
   "metadata": {},
   "outputs": [
    {
     "name": "stdout",
     "output_type": "stream",
     "text": [
      "Epoch 1: Loss = 0.4848, Accuracy = 0.2500\n",
      "Epoch 2: Loss = 0.4835, Accuracy = 0.2500\n",
      "Epoch 3: Loss = 0.4823, Accuracy = 0.2500\n",
      "Epoch 4: Loss = 0.4810, Accuracy = 0.2500\n",
      "Epoch 5: Loss = 0.4798, Accuracy = 0.2500\n",
      "Epoch 6: Loss = 0.4786, Accuracy = 0.2500\n",
      "Epoch 7: Loss = 0.4776, Accuracy = 0.2500\n",
      "Epoch 8: Loss = 0.4765, Accuracy = 0.2500\n",
      "Epoch 9: Loss = 0.4754, Accuracy = 0.2500\n",
      "Epoch 10: Loss = 0.4744, Accuracy = 0.5000\n",
      "Epoch 11: Loss = 0.4733, Accuracy = 0.5000\n",
      "Epoch 12: Loss = 0.4722, Accuracy = 0.5000\n",
      "Epoch 13: Loss = 0.4710, Accuracy = 0.5000\n",
      "Epoch 14: Loss = 0.4699, Accuracy = 0.5000\n",
      "Epoch 15: Loss = 0.4687, Accuracy = 0.5000\n",
      "Epoch 16: Loss = 0.4674, Accuracy = 0.7500\n",
      "Epoch 17: Loss = 0.4662, Accuracy = 0.7500\n",
      "Epoch 18: Loss = 0.4649, Accuracy = 0.7500\n",
      "Epoch 19: Loss = 0.4636, Accuracy = 0.7500\n",
      "Epoch 20: Loss = 0.4623, Accuracy = 0.7500\n",
      "Epoch 21: Loss = 0.4609, Accuracy = 0.7500\n",
      "Epoch 22: Loss = 0.4595, Accuracy = 0.7500\n",
      "Epoch 23: Loss = 0.4581, Accuracy = 0.7500\n",
      "Epoch 24: Loss = 0.4567, Accuracy = 0.7500\n",
      "Epoch 25: Loss = 0.4553, Accuracy = 0.7500\n",
      "Epoch 26: Loss = 0.4538, Accuracy = 0.7500\n",
      "Epoch 27: Loss = 0.4523, Accuracy = 0.7500\n",
      "Epoch 28: Loss = 0.4507, Accuracy = 0.7500\n",
      "Epoch 29: Loss = 0.4492, Accuracy = 0.7500\n",
      "Epoch 30: Loss = 0.4475, Accuracy = 0.7500\n",
      "Epoch 31: Loss = 0.4459, Accuracy = 0.7500\n",
      "Epoch 32: Loss = 0.4442, Accuracy = 0.7500\n",
      "Epoch 33: Loss = 0.4424, Accuracy = 0.7500\n",
      "Epoch 34: Loss = 0.4407, Accuracy = 0.7500\n",
      "Epoch 35: Loss = 0.4389, Accuracy = 0.7500\n",
      "Epoch 36: Loss = 0.4372, Accuracy = 0.7500\n",
      "Epoch 37: Loss = 0.4354, Accuracy = 0.7500\n",
      "Epoch 38: Loss = 0.4336, Accuracy = 1.0000\n",
      "Epoch 39: Loss = 0.4318, Accuracy = 1.0000\n",
      "Epoch 40: Loss = 0.4299, Accuracy = 1.0000\n",
      "Epoch 41: Loss = 0.4281, Accuracy = 1.0000\n",
      "Epoch 42: Loss = 0.4262, Accuracy = 1.0000\n",
      "Epoch 43: Loss = 0.4243, Accuracy = 1.0000\n",
      "Epoch 44: Loss = 0.4223, Accuracy = 1.0000\n",
      "Epoch 45: Loss = 0.4204, Accuracy = 1.0000\n",
      "Epoch 46: Loss = 0.4185, Accuracy = 1.0000\n",
      "Epoch 47: Loss = 0.4166, Accuracy = 1.0000\n",
      "Epoch 48: Loss = 0.4147, Accuracy = 1.0000\n",
      "Epoch 49: Loss = 0.4128, Accuracy = 1.0000\n",
      "Epoch 50: Loss = 0.4108, Accuracy = 1.0000\n"
     ]
    }
   ],
   "source": [
    "# 훈련 루프\n",
    "for epoch in range(50):\n",
    "    total_loss = 0\n",
    "    correct = 0\n",
    "    total = 0\n",
    "    for data, target in train_loader:\n",
    "        optimizer.zero_grad()\n",
    "        output = model(data)\n",
    "        loss = criterion(output, target.view(-1, 1))\n",
    "        total_loss += loss.item()\n",
    "        predicted = output.round()\n",
    "        correct += (predicted == target.view(-1, 1)).sum().item()\n",
    "        total += target.size(0)\n",
    "        loss.backward()\n",
    "        optimizer.step()\n",
    "    \n",
    "    epoch_loss = total_loss / len(train_loader)\n",
    "    epoch_accuracy = correct / total\n",
    "    epoch_losses.append(epoch_loss)\n",
    "    epoch_accuracies.append(epoch_accuracy)\n",
    "\n",
    "    print(f'Epoch {epoch+1}: Loss = {epoch_loss:.4f}, Accuracy = {epoch_accuracy:.4f}')"
   ]
  },
  {
   "cell_type": "code",
   "execution_count": 15,
   "metadata": {},
   "outputs": [
    {
     "name": "stdout",
     "output_type": "stream",
     "text": [
      "Test Accuracy: 0.6666666666666666\n"
     ]
    }
   ],
   "source": [
    "# 모델 평가\n",
    "with torch.no_grad():\n",
    "    output = model(X_test)\n",
    "    predicted = output.round()  # 0.5 이상을 1로, 미만을 0으로\n",
    "    accuracy = (predicted == y_test.view(-1, 1)).sum().item() / len(y_test)\n",
    "    print(f'Test Accuracy: {accuracy}')"
   ]
  },
  {
   "cell_type": "markdown",
   "metadata": {},
   "source": [
    "# 시각화"
   ]
  },
  {
   "cell_type": "code",
   "execution_count": 16,
   "metadata": {},
   "outputs": [],
   "source": [
    "import matplotlib.pyplot as plt"
   ]
  },
  {
   "cell_type": "code",
   "execution_count": 18,
   "metadata": {},
   "outputs": [
    {
     "data": {
      "image/png": "[encoded data removed]",
      "text/plain": [
       "<Figure size 1200x500 with 2 Axes>"
      ]
     },
     "metadata": {},
     "output_type": "display_data"
    }
   ],
   "source": [
    "epochs = list(range(1, 51))\n",
    "\n",
    "# Loss 그래프\n",
    "plt.figure(figsize=(12, 5))\n",
    "plt.subplot(1, 2, 1)\n",
    "plt.plot(epochs, epoch_losses, label='Training Loss', color='red')\n",
    "plt.title('Epoch vs. Loss')\n",
    "plt.xlabel('Epoch')\n",
    "plt.ylabel('Loss')\n",
    "plt.grid(True)\n",
    "plt.legend()\n",
    "\n",
    "# Accuracy 그래프\n",
    "plt.subplot(1, 2, 2)\n",
    "plt.plot(epochs, epoch_accuracies, label='Training Accuracy', color='blue')\n",
    "plt.title('Epoch vs. Accuracy')\n",
    "plt.xlabel('Epoch')\n",
    "plt.ylabel('Accuracy')\n",
    "plt.grid(True)\n",
    "plt.legend()\n",
    "\n",
    "plt.tight_layout()\n",
    "plt.show()"
   ]
  }
 ],
 "metadata": {
  "kernelspec": {
   "display_name": "base",
   "language": "python",
   "name": "python3"
  },
  "language_info": {
   "codemirror_mode": {
    "name": "ipython",
    "version": 3
   },
   "file_extension": ".py",
   "mimetype": "text/x-python",
   "name": "python",
   "nbconvert_exporter": "python",
   "pygments_lexer": "ipython3",
   "version": "3.10.12"
  }
 },
 "nbformat": 4,
 "nbformat_minor": 2
}
